{
 "cells": [
  {
   "cell_type": "code",
   "execution_count": 2,
   "id": "876188f6",
   "metadata": {},
   "outputs": [],
   "source": [
    "import numpy as np\n",
    "import pandas as pd\n",
    "import pickle \n",
    "import gzip\n",
    "import os"
   ]
  },
  {
   "cell_type": "code",
   "execution_count": 8,
   "id": "5e8122e7",
   "metadata": {
    "scrolled": true
   },
   "outputs": [],
   "source": [
    "#contains the data in both feature ordering ways (drug A - drug B - cell line and drug B - drug A - cell line)\n",
    "#in the first half of the data the features are ordered (drug A - drug B - cell line)\n",
    "#in the second half of the data the features are ordered (drug B - drug A - cell line)\n",
    "file = gzip.open('data'+os.sep+'X.p.gz', 'rb')\n",
    "X = pickle.load(file)\n",
    "file.close()"
   ]
  },
  {
   "cell_type": "code",
   "execution_count": 12,
   "id": "fc76011c",
   "metadata": {},
   "outputs": [],
   "source": [
    "#contains synergy values and fold split (numbers 0-4)\n",
    "labels = pd.read_csv('data'+os.sep+'labels.csv', index_col=0)\n",
    "#labels are duplicated for the two different ways of ordering in the data\n",
    "labels = pd.concat([labels, labels])"
   ]
  },
  {
   "cell_type": "code",
   "execution_count": 13,
   "id": "8d9d5c9c",
   "metadata": {},
   "outputs": [
    {
     "data": {
      "text/plain": [
       "(46104, 5)"
      ]
     },
     "execution_count": 13,
     "metadata": {},
     "output_type": "execute_result"
    }
   ],
   "source": [
    "labels.shape"
   ]
  },
  {
   "cell_type": "code",
   "execution_count": 10,
   "id": "ce7d9567",
   "metadata": {},
   "outputs": [
    {
     "data": {
      "text/plain": [
       "(46104, 12758)"
      ]
     },
     "execution_count": 10,
     "metadata": {},
     "output_type": "execute_result"
    }
   ],
   "source": [
    "X.shape"
   ]
  },
  {
   "cell_type": "code",
   "execution_count": 11,
   "id": "20489c13",
   "metadata": {},
   "outputs": [
    {
     "name": "stdout",
     "output_type": "stream",
     "text": [
      "4387\n",
      "3984\n"
     ]
    }
   ],
   "source": [
    "len_features = 1309+802+2276\n",
    "len_cell_line = 3984\n",
    "\n",
    "print(len_features)\n",
    "print(len_cell_line)"
   ]
  },
  {
   "cell_type": "code",
   "execution_count": 14,
   "id": "938c046a",
   "metadata": {},
   "outputs": [],
   "source": [
    "drugsFeatures = X[:,:len(X[0])-len_cell_line]\n",
    "dict_drug2features = {}\n",
    "\n",
    "for i, drug_a in enumerate(labels['drug_a_name']):\n",
    "    if drug_a in dict_drug2features.keys():\n",
    "        continue\n",
    "    else:\n",
    "        dict_drug2features[drug_a] = drugsFeatures[i,:len_features]\n",
    "\n",
    "for i, drug_b in enumerate(labels['drug_b_name']):\n",
    "    if drug_b in dict_drug2features.keys():\n",
    "        continue\n",
    "    else:\n",
    "        dict_drug2features[drug_b] = drugsFeatures[i,:len_features]"
   ]
  },
  {
   "cell_type": "code",
   "execution_count": 15,
   "id": "16e9b7cd",
   "metadata": {},
   "outputs": [
    {
     "name": "stdout",
     "output_type": "stream",
     "text": [
      "38\n"
     ]
    },
    {
     "data": {
      "text/plain": [
       "dict_keys(['5-FU', 'ABT-888', 'AZD1775', 'BEZ-235', 'BORTEZOMIB', 'CARBOPLATIN', 'CYCLOPHOSPHAMIDE', 'DASATINIB', 'DEXAMETHASONE', 'DINACICLIB', 'DOXORUBICIN', 'ERLOTINIB', 'ETOPOSIDE', 'GELDANAMYCIN', 'GEMCITABINE', 'L778123', 'LAPATINIB', 'METFORMIN', 'METHOTREXATE', 'MITOMYCINE', 'MK-2206', 'MK-4541', 'MK-4827', 'MK-5108', 'MK-8669', 'MRK-003', 'OXALIPLATIN', 'PACLITAXEL', 'PD325901', 'SN-38', 'SORAFENIB', 'SUNITINIB', 'TEMOZOLOMIDE', 'TOPOTECAN', 'VINBLASTINE', 'VINORELBINE', 'ZOLINZA', 'MK-8776'])"
      ]
     },
     "execution_count": 15,
     "metadata": {},
     "output_type": "execute_result"
    }
   ],
   "source": [
    "print(len(dict_drug2features.keys()))\n",
    "dict_drug2features.keys()"
   ]
  },
  {
   "cell_type": "code",
   "execution_count": 21,
   "id": "582e4f39",
   "metadata": {},
   "outputs": [
    {
     "data": {
      "text/plain": [
       "4387"
      ]
     },
     "execution_count": 21,
     "metadata": {},
     "output_type": "execute_result"
    }
   ],
   "source": [
    "len(dict_drug2features['5-FU'])"
   ]
  },
  {
   "cell_type": "code",
   "execution_count": 26,
   "id": "01cfd98f",
   "metadata": {},
   "outputs": [
    {
     "data": {
      "text/plain": [
       "dict_keys(['5-FU', 'ABT-888', 'AZD1775', 'BEZ-235', 'BORTEZOMIB', 'CARBOPLATIN', 'CYCLOPHOSPHAMIDE', 'DASATINIB', 'DEXAMETHASONE', 'DINACICLIB', 'DOXORUBICIN', 'ERLOTINIB', 'ETOPOSIDE', 'GELDANAMYCIN', 'GEMCITABINE', 'L778123', 'LAPATINIB', 'METFORMIN', 'METHOTREXATE', 'MITOMYCINE', 'MK-2206', 'MK-4541', 'MK-4827', 'MK-5108', 'MK-8669', 'MRK-003', 'OXALIPLATIN', 'PACLITAXEL', 'PD325901', 'SN-38', 'SORAFENIB', 'SUNITINIB', 'TEMOZOLOMIDE', 'TOPOTECAN', 'VINBLASTINE', 'VINORELBINE', 'ZOLINZA', 'MK-8776'])"
      ]
     },
     "execution_count": 26,
     "metadata": {},
     "output_type": "execute_result"
    }
   ],
   "source": [
    "import pickle\n",
    "\n",
    "#with open('data'+os.sep+'dict_drug2features.pkl', 'wb') as pk:\n",
    "#    pickle.dump(dict_drug2features, pk)\n",
    "\n",
    "\n",
    "with open('data'+os.sep+'dict_drug2features.pkl', 'rb') as pk:\n",
    "    dict1 = pickle.load(pk)\n",
    "dict1.keys()"
   ]
  },
  {
   "cell_type": "code",
   "execution_count": null,
   "id": "8f8f32ce",
   "metadata": {},
   "outputs": [],
   "source": []
  },
  {
   "cell_type": "code",
   "execution_count": 16,
   "id": "3bc0a9e3",
   "metadata": {},
   "outputs": [
    {
     "name": "stdout",
     "output_type": "stream",
     "text": [
      "4387\n",
      "3984\n"
     ]
    }
   ],
   "source": [
    "print(len_features)\n",
    "print(len_cell_line)"
   ]
  },
  {
   "cell_type": "code",
   "execution_count": 17,
   "id": "3a3c4518",
   "metadata": {},
   "outputs": [],
   "source": [
    "cell_lineFeatures = X[:,len(X[0])-len_cell_line:]\n",
    "dict_cl2features = {}\n",
    "\n",
    "for i, cl in enumerate(labels['cell_line']):\n",
    "    if cl in dict_cl2features.keys():\n",
    "        continue\n",
    "    else:\n",
    "        dict_cl2features[cl] = cell_lineFeatures[i,:]\n"
   ]
  },
  {
   "cell_type": "code",
   "execution_count": 18,
   "id": "5aa0af42",
   "metadata": {},
   "outputs": [
    {
     "name": "stdout",
     "output_type": "stream",
     "text": [
      "39\n"
     ]
    },
    {
     "data": {
      "text/plain": [
       "dict_keys(['A2058', 'A2780', 'A375', 'A427', 'CAOV3', 'COLO320DM', 'DLD1', 'EFM192B', 'ES2', 'HCT116', 'HT144', 'HT29', 'KPL1', 'LNCAP', 'LOVO', 'MDAMB436', 'MSTO', 'NCIH1650', 'NCIH2122', 'NCIH23', 'NCIH460', 'NCIH520', 'OCUBM', 'OV90', 'OVCAR3', 'PA1', 'RKO', 'RPMI7951', 'SKMEL30', 'SKMES1', 'SKOV3', 'SW620', 'SW837', 'T47D', 'UACC62', 'UWB1289BRCA1', 'UWB1289', 'VCAP', 'ZR751'])"
      ]
     },
     "execution_count": 18,
     "metadata": {},
     "output_type": "execute_result"
    }
   ],
   "source": [
    "dict_cl2features\n",
    "print(len(dict_cl2features.keys()))\n",
    "dict_cl2features.keys()"
   ]
  },
  {
   "cell_type": "code",
   "execution_count": 20,
   "id": "b158511b",
   "metadata": {},
   "outputs": [
    {
     "data": {
      "text/plain": [
       "3984"
      ]
     },
     "execution_count": 20,
     "metadata": {},
     "output_type": "execute_result"
    }
   ],
   "source": [
    "len(dict_cl2features['LOVO'])"
   ]
  },
  {
   "cell_type": "code",
   "execution_count": 27,
   "id": "240da793",
   "metadata": {},
   "outputs": [
    {
     "data": {
      "text/plain": [
       "dict_keys(['A2058', 'A2780', 'A375', 'A427', 'CAOV3', 'COLO320DM', 'DLD1', 'EFM192B', 'ES2', 'HCT116', 'HT144', 'HT29', 'KPL1', 'LNCAP', 'LOVO', 'MDAMB436', 'MSTO', 'NCIH1650', 'NCIH2122', 'NCIH23', 'NCIH460', 'NCIH520', 'OCUBM', 'OV90', 'OVCAR3', 'PA1', 'RKO', 'RPMI7951', 'SKMEL30', 'SKMES1', 'SKOV3', 'SW620', 'SW837', 'T47D', 'UACC62', 'UWB1289BRCA1', 'UWB1289', 'VCAP', 'ZR751'])"
      ]
     },
     "execution_count": 27,
     "metadata": {},
     "output_type": "execute_result"
    }
   ],
   "source": [
    "import pickle\n",
    "\n",
    "#with open('data'+os.sep+'dict_cl2features.pkl', 'wb') as pk:\n",
    "#    pickle.dump(dict_cl2features, pk)\n",
    "\n",
    "with open('data'+os.sep+'dict_cl2features.pkl', 'rb') as pk:\n",
    "    dict2 = pickle.load(pk)\n",
    "dict2.keys()"
   ]
  },
  {
   "cell_type": "code",
   "execution_count": null,
   "id": "494137fb",
   "metadata": {},
   "outputs": [],
   "source": []
  }
 ],
 "metadata": {
  "kernelspec": {
   "display_name": "Python 3 (ipykernel)",
   "language": "python",
   "name": "python3"
  },
  "language_info": {
   "codemirror_mode": {
    "name": "ipython",
    "version": 3
   },
   "file_extension": ".py",
   "mimetype": "text/x-python",
   "name": "python",
   "nbconvert_exporter": "python",
   "pygments_lexer": "ipython3",
   "version": "3.10.4"
  }
 },
 "nbformat": 4,
 "nbformat_minor": 5
}
