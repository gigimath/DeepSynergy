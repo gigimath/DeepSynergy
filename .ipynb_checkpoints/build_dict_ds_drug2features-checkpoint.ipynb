{
 "cells": [
  {
   "cell_type": "code",
   "execution_count": 1,
   "id": "876188f6",
   "metadata": {},
   "outputs": [],
   "source": [
    "import numpy as np\n",
    "import pandas as pd\n",
    "import pickle \n",
    "import gzip"
   ]
  },
  {
   "cell_type": "code",
   "execution_count": 2,
   "id": "5e8122e7",
   "metadata": {},
   "outputs": [],
   "source": [
    "#contains the data in both feature ordering ways (drug A - drug B - cell line and drug B - drug A - cell line)\n",
    "#in the first half of the data the features are ordered (drug A - drug B - cell line)\n",
    "#in the second half of the data the features are ordered (drug B - drug A - cell line)\n",
    "file = gzip.open('X.p.gz', 'rb')\n",
    "X = pickle.load(file)\n",
    "file.close()"
   ]
  },
  {
   "cell_type": "code",
   "execution_count": 3,
   "id": "fc76011c",
   "metadata": {},
   "outputs": [],
   "source": [
    "#contains synergy values and fold split (numbers 0-4)\n",
    "labels = pd.read_csv('labels.csv', index_col=0)\n",
    "#labels are duplicated for the two different ways of ordering in the data\n",
    "labels = pd.concat([labels, labels])"
   ]
  },
  {
   "cell_type": "code",
   "execution_count": 4,
   "id": "8d9d5c9c",
   "metadata": {},
   "outputs": [
    {
     "data": {
      "text/plain": [
       "(46104, 5)"
      ]
     },
     "execution_count": 4,
     "metadata": {},
     "output_type": "execute_result"
    }
   ],
   "source": [
    "labels.shape"
   ]
  },
  {
   "cell_type": "code",
   "execution_count": 5,
   "id": "ce7d9567",
   "metadata": {},
   "outputs": [
    {
     "data": {
      "text/plain": [
       "(46104, 12758)"
      ]
     },
     "execution_count": 5,
     "metadata": {},
     "output_type": "execute_result"
    }
   ],
   "source": [
    "X.shape"
   ]
  },
  {
   "cell_type": "code",
   "execution_count": 6,
   "id": "20489c13",
   "metadata": {},
   "outputs": [
    {
     "name": "stdout",
     "output_type": "stream",
     "text": [
      "4387\n",
      "3984\n"
     ]
    }
   ],
   "source": [
    "len_features = 1309+802+2276\n",
    "len_cell_line = 3984\n",
    "\n",
    "print(len_features)\n",
    "print(len_cell_line)"
   ]
  },
  {
   "cell_type": "code",
   "execution_count": 7,
   "id": "938c046a",
   "metadata": {},
   "outputs": [],
   "source": [
    "drugsFeatures = X[:,:len(X[0])-len_cell_line]\n",
    "dict_drug2features = {}\n",
    "\n",
    "for i, drug_a in enumerate(labels['drug_a_name']):\n",
    "    if drug_a in dict_drug2features.keys():\n",
    "        continue\n",
    "    else:\n",
    "        dict_drug2features[drug_a] = drugsFeatures[i,:len_features]\n",
    "\n",
    "for i, drug_b in enumerate(labels['drug_b_name']):\n",
    "    if drug_b in dict_drug2features.keys():\n",
    "        continue\n",
    "    else:\n",
    "        dict_drug2features[drug_b] = drugsFeatures[i,:len_features]"
   ]
  },
  {
   "cell_type": "code",
   "execution_count": 8,
   "id": "16e9b7cd",
   "metadata": {},
   "outputs": [
    {
     "name": "stdout",
     "output_type": "stream",
     "text": [
      "38\n"
     ]
    },
    {
     "data": {
      "text/plain": [
       "dict_keys(['5-FU', 'ABT-888', 'AZD1775', 'BEZ-235', 'BORTEZOMIB', 'CARBOPLATIN', 'CYCLOPHOSPHAMIDE', 'DASATINIB', 'DEXAMETHASONE', 'DINACICLIB', 'DOXORUBICIN', 'ERLOTINIB', 'ETOPOSIDE', 'GELDANAMYCIN', 'GEMCITABINE', 'L778123', 'LAPATINIB', 'METFORMIN', 'METHOTREXATE', 'MITOMYCINE', 'MK-2206', 'MK-4541', 'MK-4827', 'MK-5108', 'MK-8669', 'MRK-003', 'OXALIPLATIN', 'PACLITAXEL', 'PD325901', 'SN-38', 'SORAFENIB', 'SUNITINIB', 'TEMOZOLOMIDE', 'TOPOTECAN', 'VINBLASTINE', 'VINORELBINE', 'ZOLINZA', 'MK-8776'])"
      ]
     },
     "execution_count": 8,
     "metadata": {},
     "output_type": "execute_result"
    }
   ],
   "source": [
    "print(len(dict_drug2features.keys()))\n",
    "dict_drug2features.keys()"
   ]
  },
  {
   "cell_type": "code",
   "execution_count": 9,
   "id": "3300e1cb",
   "metadata": {},
   "outputs": [
    {
     "name": "stdout",
     "output_type": "stream",
     "text": [
      "4387\n"
     ]
    },
    {
     "data": {
      "text/plain": [
       "array([ 0.02631579,  0.05263158,  0.02631579, ..., 16.345     ,\n",
       "        1.993     ,  0.        ])"
      ]
     },
     "execution_count": 9,
     "metadata": {},
     "output_type": "execute_result"
    }
   ],
   "source": [
    "print(len(dict_drug2features['5-FU']))\n",
    "dict_drug2features['5-FU']"
   ]
  },
  {
   "cell_type": "code",
   "execution_count": 10,
   "id": "b3aef552",
   "metadata": {},
   "outputs": [
    {
     "data": {
      "text/html": [
       "<div>\n",
       "<style scoped>\n",
       "    .dataframe tbody tr th:only-of-type {\n",
       "        vertical-align: middle;\n",
       "    }\n",
       "\n",
       "    .dataframe tbody tr th {\n",
       "        vertical-align: top;\n",
       "    }\n",
       "\n",
       "    .dataframe thead th {\n",
       "        text-align: right;\n",
       "    }\n",
       "</style>\n",
       "<table border=\"1\" class=\"dataframe\">\n",
       "  <thead>\n",
       "    <tr style=\"text-align: right;\">\n",
       "      <th></th>\n",
       "      <th>5-FU</th>\n",
       "      <th>ABT-888</th>\n",
       "      <th>AZD1775</th>\n",
       "      <th>BEZ-235</th>\n",
       "      <th>BORTEZOMIB</th>\n",
       "      <th>CARBOPLATIN</th>\n",
       "      <th>CYCLOPHOSPHAMIDE</th>\n",
       "      <th>DASATINIB</th>\n",
       "      <th>DEXAMETHASONE</th>\n",
       "      <th>DINACICLIB</th>\n",
       "      <th>...</th>\n",
       "      <th>PD325901</th>\n",
       "      <th>SN-38</th>\n",
       "      <th>SORAFENIB</th>\n",
       "      <th>SUNITINIB</th>\n",
       "      <th>TEMOZOLOMIDE</th>\n",
       "      <th>TOPOTECAN</th>\n",
       "      <th>VINBLASTINE</th>\n",
       "      <th>VINORELBINE</th>\n",
       "      <th>ZOLINZA</th>\n",
       "      <th>MK-8776</th>\n",
       "    </tr>\n",
       "  </thead>\n",
       "  <tbody>\n",
       "    <tr>\n",
       "      <th>0</th>\n",
       "      <td>0.026316</td>\n",
       "      <td>0.0</td>\n",
       "      <td>0.0</td>\n",
       "      <td>0.0</td>\n",
       "      <td>0.0</td>\n",
       "      <td>0.0</td>\n",
       "      <td>0.0</td>\n",
       "      <td>0.0</td>\n",
       "      <td>0.0</td>\n",
       "      <td>0.0</td>\n",
       "      <td>...</td>\n",
       "      <td>0.0</td>\n",
       "      <td>0.0</td>\n",
       "      <td>0.000000</td>\n",
       "      <td>0.0</td>\n",
       "      <td>0.0</td>\n",
       "      <td>0.0</td>\n",
       "      <td>0.0</td>\n",
       "      <td>0.0</td>\n",
       "      <td>0.0</td>\n",
       "      <td>0.026316</td>\n",
       "    </tr>\n",
       "    <tr>\n",
       "      <th>1</th>\n",
       "      <td>0.052632</td>\n",
       "      <td>0.0</td>\n",
       "      <td>0.0</td>\n",
       "      <td>0.0</td>\n",
       "      <td>0.0</td>\n",
       "      <td>0.0</td>\n",
       "      <td>0.0</td>\n",
       "      <td>0.0</td>\n",
       "      <td>0.0</td>\n",
       "      <td>0.0</td>\n",
       "      <td>...</td>\n",
       "      <td>0.0</td>\n",
       "      <td>0.0</td>\n",
       "      <td>0.052632</td>\n",
       "      <td>0.0</td>\n",
       "      <td>0.0</td>\n",
       "      <td>0.0</td>\n",
       "      <td>0.0</td>\n",
       "      <td>0.0</td>\n",
       "      <td>0.0</td>\n",
       "      <td>0.052632</td>\n",
       "    </tr>\n",
       "    <tr>\n",
       "      <th>2</th>\n",
       "      <td>0.026316</td>\n",
       "      <td>0.0</td>\n",
       "      <td>0.0</td>\n",
       "      <td>0.0</td>\n",
       "      <td>0.0</td>\n",
       "      <td>0.0</td>\n",
       "      <td>0.0</td>\n",
       "      <td>0.0</td>\n",
       "      <td>0.0</td>\n",
       "      <td>0.0</td>\n",
       "      <td>...</td>\n",
       "      <td>0.0</td>\n",
       "      <td>0.0</td>\n",
       "      <td>0.000000</td>\n",
       "      <td>0.0</td>\n",
       "      <td>0.0</td>\n",
       "      <td>0.0</td>\n",
       "      <td>0.0</td>\n",
       "      <td>0.0</td>\n",
       "      <td>0.0</td>\n",
       "      <td>0.026316</td>\n",
       "    </tr>\n",
       "    <tr>\n",
       "      <th>3</th>\n",
       "      <td>1.000000</td>\n",
       "      <td>1.0</td>\n",
       "      <td>1.0</td>\n",
       "      <td>0.0</td>\n",
       "      <td>2.0</td>\n",
       "      <td>0.0</td>\n",
       "      <td>0.0</td>\n",
       "      <td>1.0</td>\n",
       "      <td>0.0</td>\n",
       "      <td>0.0</td>\n",
       "      <td>...</td>\n",
       "      <td>1.0</td>\n",
       "      <td>1.0</td>\n",
       "      <td>1.000000</td>\n",
       "      <td>2.0</td>\n",
       "      <td>1.0</td>\n",
       "      <td>1.0</td>\n",
       "      <td>0.0</td>\n",
       "      <td>0.0</td>\n",
       "      <td>2.0</td>\n",
       "      <td>1.000000</td>\n",
       "    </tr>\n",
       "    <tr>\n",
       "      <th>4</th>\n",
       "      <td>1.000000</td>\n",
       "      <td>0.0</td>\n",
       "      <td>0.0</td>\n",
       "      <td>1.0</td>\n",
       "      <td>0.0</td>\n",
       "      <td>0.0</td>\n",
       "      <td>0.0</td>\n",
       "      <td>0.0</td>\n",
       "      <td>0.0</td>\n",
       "      <td>0.0</td>\n",
       "      <td>...</td>\n",
       "      <td>0.0</td>\n",
       "      <td>0.0</td>\n",
       "      <td>1.000000</td>\n",
       "      <td>0.0</td>\n",
       "      <td>1.0</td>\n",
       "      <td>0.0</td>\n",
       "      <td>0.0</td>\n",
       "      <td>0.0</td>\n",
       "      <td>0.0</td>\n",
       "      <td>1.000000</td>\n",
       "    </tr>\n",
       "  </tbody>\n",
       "</table>\n",
       "<p>5 rows × 38 columns</p>\n",
       "</div>"
      ],
      "text/plain": [
       "       5-FU  ABT-888  AZD1775  BEZ-235  BORTEZOMIB  CARBOPLATIN  \\\n",
       "0  0.026316      0.0      0.0      0.0         0.0          0.0   \n",
       "1  0.052632      0.0      0.0      0.0         0.0          0.0   \n",
       "2  0.026316      0.0      0.0      0.0         0.0          0.0   \n",
       "3  1.000000      1.0      1.0      0.0         2.0          0.0   \n",
       "4  1.000000      0.0      0.0      1.0         0.0          0.0   \n",
       "\n",
       "   CYCLOPHOSPHAMIDE  DASATINIB  DEXAMETHASONE  DINACICLIB  ...  PD325901  \\\n",
       "0               0.0        0.0            0.0         0.0  ...       0.0   \n",
       "1               0.0        0.0            0.0         0.0  ...       0.0   \n",
       "2               0.0        0.0            0.0         0.0  ...       0.0   \n",
       "3               0.0        1.0            0.0         0.0  ...       1.0   \n",
       "4               0.0        0.0            0.0         0.0  ...       0.0   \n",
       "\n",
       "   SN-38  SORAFENIB  SUNITINIB  TEMOZOLOMIDE  TOPOTECAN  VINBLASTINE  \\\n",
       "0    0.0   0.000000        0.0           0.0        0.0          0.0   \n",
       "1    0.0   0.052632        0.0           0.0        0.0          0.0   \n",
       "2    0.0   0.000000        0.0           0.0        0.0          0.0   \n",
       "3    1.0   1.000000        2.0           1.0        1.0          0.0   \n",
       "4    0.0   1.000000        0.0           1.0        0.0          0.0   \n",
       "\n",
       "   VINORELBINE  ZOLINZA   MK-8776  \n",
       "0          0.0      0.0  0.026316  \n",
       "1          0.0      0.0  0.052632  \n",
       "2          0.0      0.0  0.026316  \n",
       "3          0.0      2.0  1.000000  \n",
       "4          0.0      0.0  1.000000  \n",
       "\n",
       "[5 rows x 38 columns]"
      ]
     },
     "execution_count": 10,
     "metadata": {},
     "output_type": "execute_result"
    }
   ],
   "source": [
    "pd_drug2features = pd.DataFrame(dict_drug2features)\n",
    "pd_drug2features.head()"
   ]
  },
  {
   "cell_type": "code",
   "execution_count": null,
   "id": "823d1deb",
   "metadata": {},
   "outputs": [],
   "source": []
  },
  {
   "cell_type": "code",
   "execution_count": 11,
   "id": "98eb1f21",
   "metadata": {},
   "outputs": [],
   "source": [
    "import pickle\n",
    "\n",
    "with open(\"dict_drugName2myEncode\", \"rb\") as fp:   # Unpickling\n",
    "    dict_drug2number = pickle.load(fp)"
   ]
  },
  {
   "cell_type": "code",
   "execution_count": 12,
   "id": "7be7152f",
   "metadata": {
    "scrolled": true
   },
   "outputs": [
    {
     "data": {
      "text/plain": [
       "{'GELDANAMYCIN': 0,\n",
       " 'ABT-888': 1,\n",
       " 'SN-38': 2,\n",
       " 'DINACICLIB': 3,\n",
       " 'MK-8776': 4,\n",
       " 'TOPOTECAN': 5,\n",
       " 'AZD1775': 6,\n",
       " 'LAPATINIB': 7,\n",
       " 'PD325901': 8,\n",
       " 'SORAFENIB': 9,\n",
       " 'METHOTREXATE': 10,\n",
       " 'ERLOTINIB': 11,\n",
       " '5-FU': 12,\n",
       " 'METFORMIN': 13,\n",
       " 'BEZ-235': 14,\n",
       " 'VINBLASTINE': 15,\n",
       " 'MK-4827': 16,\n",
       " 'MK-2206': 17,\n",
       " 'ETOPOSIDE': 18,\n",
       " 'SUNITINIB': 19,\n",
       " 'CYCLOPHOSPHAMIDE': 20,\n",
       " 'MK-5108': 21,\n",
       " 'DEXAMETHASONE': 22,\n",
       " 'DASATINIB': 23,\n",
       " 'L778123': 24,\n",
       " 'ZOLINZA': 25,\n",
       " 'GEMCITABINE': 26,\n",
       " 'PACLITAXEL': 27,\n",
       " 'MK-8669': 28,\n",
       " 'VINORELBINE': 29,\n",
       " 'DOXORUBICIN': 30,\n",
       " 'BORTEZOMIB': 31}"
      ]
     },
     "execution_count": 12,
     "metadata": {},
     "output_type": "execute_result"
    }
   ],
   "source": [
    "dict_drug2number"
   ]
  },
  {
   "cell_type": "code",
   "execution_count": 13,
   "id": "aa597225",
   "metadata": {},
   "outputs": [
    {
     "data": {
      "text/plain": [
       "32"
      ]
     },
     "execution_count": 13,
     "metadata": {},
     "output_type": "execute_result"
    }
   ],
   "source": [
    "len(dict_drug2number.keys())"
   ]
  },
  {
   "cell_type": "code",
   "execution_count": 14,
   "id": "12d25128",
   "metadata": {},
   "outputs": [
    {
     "data": {
      "text/html": [
       "<div>\n",
       "<style scoped>\n",
       "    .dataframe tbody tr th:only-of-type {\n",
       "        vertical-align: middle;\n",
       "    }\n",
       "\n",
       "    .dataframe tbody tr th {\n",
       "        vertical-align: top;\n",
       "    }\n",
       "\n",
       "    .dataframe thead th {\n",
       "        text-align: right;\n",
       "    }\n",
       "</style>\n",
       "<table border=\"1\" class=\"dataframe\">\n",
       "  <thead>\n",
       "    <tr style=\"text-align: right;\">\n",
       "      <th></th>\n",
       "      <th>5-FU</th>\n",
       "      <th>ABT-888</th>\n",
       "      <th>AZD1775</th>\n",
       "      <th>BEZ-235</th>\n",
       "      <th>BORTEZOMIB</th>\n",
       "      <th>CARBOPLATIN</th>\n",
       "      <th>CYCLOPHOSPHAMIDE</th>\n",
       "      <th>DASATINIB</th>\n",
       "      <th>DEXAMETHASONE</th>\n",
       "      <th>DINACICLIB</th>\n",
       "      <th>...</th>\n",
       "      <th>PD325901</th>\n",
       "      <th>SN-38</th>\n",
       "      <th>SORAFENIB</th>\n",
       "      <th>SUNITINIB</th>\n",
       "      <th>TEMOZOLOMIDE</th>\n",
       "      <th>TOPOTECAN</th>\n",
       "      <th>VINBLASTINE</th>\n",
       "      <th>VINORELBINE</th>\n",
       "      <th>ZOLINZA</th>\n",
       "      <th>MK-8776</th>\n",
       "    </tr>\n",
       "  </thead>\n",
       "  <tbody>\n",
       "    <tr>\n",
       "      <th>0</th>\n",
       "      <td>0.026316</td>\n",
       "      <td>0.0</td>\n",
       "      <td>0.0</td>\n",
       "      <td>0.0</td>\n",
       "      <td>0.0</td>\n",
       "      <td>0.0</td>\n",
       "      <td>0.0</td>\n",
       "      <td>0.0</td>\n",
       "      <td>0.0</td>\n",
       "      <td>0.0</td>\n",
       "      <td>...</td>\n",
       "      <td>0.0</td>\n",
       "      <td>0.0</td>\n",
       "      <td>0.000000</td>\n",
       "      <td>0.0</td>\n",
       "      <td>0.0</td>\n",
       "      <td>0.0</td>\n",
       "      <td>0.0</td>\n",
       "      <td>0.0</td>\n",
       "      <td>0.0</td>\n",
       "      <td>0.026316</td>\n",
       "    </tr>\n",
       "    <tr>\n",
       "      <th>1</th>\n",
       "      <td>0.052632</td>\n",
       "      <td>0.0</td>\n",
       "      <td>0.0</td>\n",
       "      <td>0.0</td>\n",
       "      <td>0.0</td>\n",
       "      <td>0.0</td>\n",
       "      <td>0.0</td>\n",
       "      <td>0.0</td>\n",
       "      <td>0.0</td>\n",
       "      <td>0.0</td>\n",
       "      <td>...</td>\n",
       "      <td>0.0</td>\n",
       "      <td>0.0</td>\n",
       "      <td>0.052632</td>\n",
       "      <td>0.0</td>\n",
       "      <td>0.0</td>\n",
       "      <td>0.0</td>\n",
       "      <td>0.0</td>\n",
       "      <td>0.0</td>\n",
       "      <td>0.0</td>\n",
       "      <td>0.052632</td>\n",
       "    </tr>\n",
       "    <tr>\n",
       "      <th>2</th>\n",
       "      <td>0.026316</td>\n",
       "      <td>0.0</td>\n",
       "      <td>0.0</td>\n",
       "      <td>0.0</td>\n",
       "      <td>0.0</td>\n",
       "      <td>0.0</td>\n",
       "      <td>0.0</td>\n",
       "      <td>0.0</td>\n",
       "      <td>0.0</td>\n",
       "      <td>0.0</td>\n",
       "      <td>...</td>\n",
       "      <td>0.0</td>\n",
       "      <td>0.0</td>\n",
       "      <td>0.000000</td>\n",
       "      <td>0.0</td>\n",
       "      <td>0.0</td>\n",
       "      <td>0.0</td>\n",
       "      <td>0.0</td>\n",
       "      <td>0.0</td>\n",
       "      <td>0.0</td>\n",
       "      <td>0.026316</td>\n",
       "    </tr>\n",
       "    <tr>\n",
       "      <th>3</th>\n",
       "      <td>1.000000</td>\n",
       "      <td>1.0</td>\n",
       "      <td>1.0</td>\n",
       "      <td>0.0</td>\n",
       "      <td>2.0</td>\n",
       "      <td>0.0</td>\n",
       "      <td>0.0</td>\n",
       "      <td>1.0</td>\n",
       "      <td>0.0</td>\n",
       "      <td>0.0</td>\n",
       "      <td>...</td>\n",
       "      <td>1.0</td>\n",
       "      <td>1.0</td>\n",
       "      <td>1.000000</td>\n",
       "      <td>2.0</td>\n",
       "      <td>1.0</td>\n",
       "      <td>1.0</td>\n",
       "      <td>0.0</td>\n",
       "      <td>0.0</td>\n",
       "      <td>2.0</td>\n",
       "      <td>1.000000</td>\n",
       "    </tr>\n",
       "    <tr>\n",
       "      <th>4</th>\n",
       "      <td>1.000000</td>\n",
       "      <td>0.0</td>\n",
       "      <td>0.0</td>\n",
       "      <td>1.0</td>\n",
       "      <td>0.0</td>\n",
       "      <td>0.0</td>\n",
       "      <td>0.0</td>\n",
       "      <td>0.0</td>\n",
       "      <td>0.0</td>\n",
       "      <td>0.0</td>\n",
       "      <td>...</td>\n",
       "      <td>0.0</td>\n",
       "      <td>0.0</td>\n",
       "      <td>1.000000</td>\n",
       "      <td>0.0</td>\n",
       "      <td>1.0</td>\n",
       "      <td>0.0</td>\n",
       "      <td>0.0</td>\n",
       "      <td>0.0</td>\n",
       "      <td>0.0</td>\n",
       "      <td>1.000000</td>\n",
       "    </tr>\n",
       "  </tbody>\n",
       "</table>\n",
       "<p>5 rows × 38 columns</p>\n",
       "</div>"
      ],
      "text/plain": [
       "       5-FU  ABT-888  AZD1775  BEZ-235  BORTEZOMIB  CARBOPLATIN  \\\n",
       "0  0.026316      0.0      0.0      0.0         0.0          0.0   \n",
       "1  0.052632      0.0      0.0      0.0         0.0          0.0   \n",
       "2  0.026316      0.0      0.0      0.0         0.0          0.0   \n",
       "3  1.000000      1.0      1.0      0.0         2.0          0.0   \n",
       "4  1.000000      0.0      0.0      1.0         0.0          0.0   \n",
       "\n",
       "   CYCLOPHOSPHAMIDE  DASATINIB  DEXAMETHASONE  DINACICLIB  ...  PD325901  \\\n",
       "0               0.0        0.0            0.0         0.0  ...       0.0   \n",
       "1               0.0        0.0            0.0         0.0  ...       0.0   \n",
       "2               0.0        0.0            0.0         0.0  ...       0.0   \n",
       "3               0.0        1.0            0.0         0.0  ...       1.0   \n",
       "4               0.0        0.0            0.0         0.0  ...       0.0   \n",
       "\n",
       "   SN-38  SORAFENIB  SUNITINIB  TEMOZOLOMIDE  TOPOTECAN  VINBLASTINE  \\\n",
       "0    0.0   0.000000        0.0           0.0        0.0          0.0   \n",
       "1    0.0   0.052632        0.0           0.0        0.0          0.0   \n",
       "2    0.0   0.000000        0.0           0.0        0.0          0.0   \n",
       "3    1.0   1.000000        2.0           1.0        1.0          0.0   \n",
       "4    0.0   1.000000        0.0           1.0        0.0          0.0   \n",
       "\n",
       "   VINORELBINE  ZOLINZA   MK-8776  \n",
       "0          0.0      0.0  0.026316  \n",
       "1          0.0      0.0  0.052632  \n",
       "2          0.0      0.0  0.026316  \n",
       "3          0.0      2.0  1.000000  \n",
       "4          0.0      0.0  1.000000  \n",
       "\n",
       "[5 rows x 38 columns]"
      ]
     },
     "execution_count": 14,
     "metadata": {},
     "output_type": "execute_result"
    }
   ],
   "source": [
    "pd_drug2features.head()"
   ]
  },
  {
   "cell_type": "code",
   "execution_count": 15,
   "id": "153ebdf1",
   "metadata": {},
   "outputs": [
    {
     "name": "stdout",
     "output_type": "stream",
     "text": [
      "(4387, 32)\n"
     ]
    },
    {
     "data": {
      "text/html": [
       "<div>\n",
       "<style scoped>\n",
       "    .dataframe tbody tr th:only-of-type {\n",
       "        vertical-align: middle;\n",
       "    }\n",
       "\n",
       "    .dataframe tbody tr th {\n",
       "        vertical-align: top;\n",
       "    }\n",
       "\n",
       "    .dataframe thead th {\n",
       "        text-align: right;\n",
       "    }\n",
       "</style>\n",
       "<table border=\"1\" class=\"dataframe\">\n",
       "  <thead>\n",
       "    <tr style=\"text-align: right;\">\n",
       "      <th></th>\n",
       "      <th>GELDANAMYCIN</th>\n",
       "      <th>ABT-888</th>\n",
       "      <th>SN-38</th>\n",
       "      <th>DINACICLIB</th>\n",
       "      <th>MK-8776</th>\n",
       "      <th>TOPOTECAN</th>\n",
       "      <th>AZD1775</th>\n",
       "      <th>LAPATINIB</th>\n",
       "      <th>PD325901</th>\n",
       "      <th>SORAFENIB</th>\n",
       "      <th>...</th>\n",
       "      <th>DEXAMETHASONE</th>\n",
       "      <th>DASATINIB</th>\n",
       "      <th>L778123</th>\n",
       "      <th>ZOLINZA</th>\n",
       "      <th>GEMCITABINE</th>\n",
       "      <th>PACLITAXEL</th>\n",
       "      <th>MK-8669</th>\n",
       "      <th>VINORELBINE</th>\n",
       "      <th>DOXORUBICIN</th>\n",
       "      <th>BORTEZOMIB</th>\n",
       "    </tr>\n",
       "  </thead>\n",
       "  <tbody>\n",
       "    <tr>\n",
       "      <th>0</th>\n",
       "      <td>0.0</td>\n",
       "      <td>0.0</td>\n",
       "      <td>0.0</td>\n",
       "      <td>0.0</td>\n",
       "      <td>0.026316</td>\n",
       "      <td>0.0</td>\n",
       "      <td>0.0</td>\n",
       "      <td>0.0</td>\n",
       "      <td>0.0</td>\n",
       "      <td>0.000000</td>\n",
       "      <td>...</td>\n",
       "      <td>0.0</td>\n",
       "      <td>0.0</td>\n",
       "      <td>0.0</td>\n",
       "      <td>0.0</td>\n",
       "      <td>0.0</td>\n",
       "      <td>0.0</td>\n",
       "      <td>0.0</td>\n",
       "      <td>0.0</td>\n",
       "      <td>0.0</td>\n",
       "      <td>0.0</td>\n",
       "    </tr>\n",
       "    <tr>\n",
       "      <th>1</th>\n",
       "      <td>0.0</td>\n",
       "      <td>0.0</td>\n",
       "      <td>0.0</td>\n",
       "      <td>0.0</td>\n",
       "      <td>0.052632</td>\n",
       "      <td>0.0</td>\n",
       "      <td>0.0</td>\n",
       "      <td>0.0</td>\n",
       "      <td>0.0</td>\n",
       "      <td>0.052632</td>\n",
       "      <td>...</td>\n",
       "      <td>0.0</td>\n",
       "      <td>0.0</td>\n",
       "      <td>0.0</td>\n",
       "      <td>0.0</td>\n",
       "      <td>0.0</td>\n",
       "      <td>0.0</td>\n",
       "      <td>0.0</td>\n",
       "      <td>0.0</td>\n",
       "      <td>0.0</td>\n",
       "      <td>0.0</td>\n",
       "    </tr>\n",
       "    <tr>\n",
       "      <th>2</th>\n",
       "      <td>0.0</td>\n",
       "      <td>0.0</td>\n",
       "      <td>0.0</td>\n",
       "      <td>0.0</td>\n",
       "      <td>0.026316</td>\n",
       "      <td>0.0</td>\n",
       "      <td>0.0</td>\n",
       "      <td>0.0</td>\n",
       "      <td>0.0</td>\n",
       "      <td>0.000000</td>\n",
       "      <td>...</td>\n",
       "      <td>0.0</td>\n",
       "      <td>0.0</td>\n",
       "      <td>0.0</td>\n",
       "      <td>0.0</td>\n",
       "      <td>0.0</td>\n",
       "      <td>0.0</td>\n",
       "      <td>0.0</td>\n",
       "      <td>0.0</td>\n",
       "      <td>0.0</td>\n",
       "      <td>0.0</td>\n",
       "    </tr>\n",
       "    <tr>\n",
       "      <th>3</th>\n",
       "      <td>1.0</td>\n",
       "      <td>1.0</td>\n",
       "      <td>1.0</td>\n",
       "      <td>0.0</td>\n",
       "      <td>1.000000</td>\n",
       "      <td>1.0</td>\n",
       "      <td>1.0</td>\n",
       "      <td>0.0</td>\n",
       "      <td>1.0</td>\n",
       "      <td>1.000000</td>\n",
       "      <td>...</td>\n",
       "      <td>0.0</td>\n",
       "      <td>1.0</td>\n",
       "      <td>1.0</td>\n",
       "      <td>2.0</td>\n",
       "      <td>0.0</td>\n",
       "      <td>1.0</td>\n",
       "      <td>1.0</td>\n",
       "      <td>0.0</td>\n",
       "      <td>0.0</td>\n",
       "      <td>2.0</td>\n",
       "    </tr>\n",
       "    <tr>\n",
       "      <th>4</th>\n",
       "      <td>0.0</td>\n",
       "      <td>0.0</td>\n",
       "      <td>0.0</td>\n",
       "      <td>0.0</td>\n",
       "      <td>1.000000</td>\n",
       "      <td>0.0</td>\n",
       "      <td>0.0</td>\n",
       "      <td>0.0</td>\n",
       "      <td>0.0</td>\n",
       "      <td>1.000000</td>\n",
       "      <td>...</td>\n",
       "      <td>0.0</td>\n",
       "      <td>0.0</td>\n",
       "      <td>0.0</td>\n",
       "      <td>0.0</td>\n",
       "      <td>1.0</td>\n",
       "      <td>0.0</td>\n",
       "      <td>0.0</td>\n",
       "      <td>0.0</td>\n",
       "      <td>0.0</td>\n",
       "      <td>0.0</td>\n",
       "    </tr>\n",
       "  </tbody>\n",
       "</table>\n",
       "<p>5 rows × 32 columns</p>\n",
       "</div>"
      ],
      "text/plain": [
       "   GELDANAMYCIN  ABT-888  SN-38  DINACICLIB   MK-8776  TOPOTECAN  AZD1775  \\\n",
       "0           0.0      0.0    0.0         0.0  0.026316        0.0      0.0   \n",
       "1           0.0      0.0    0.0         0.0  0.052632        0.0      0.0   \n",
       "2           0.0      0.0    0.0         0.0  0.026316        0.0      0.0   \n",
       "3           1.0      1.0    1.0         0.0  1.000000        1.0      1.0   \n",
       "4           0.0      0.0    0.0         0.0  1.000000        0.0      0.0   \n",
       "\n",
       "   LAPATINIB  PD325901  SORAFENIB  ...  DEXAMETHASONE  DASATINIB  L778123  \\\n",
       "0        0.0       0.0   0.000000  ...            0.0        0.0      0.0   \n",
       "1        0.0       0.0   0.052632  ...            0.0        0.0      0.0   \n",
       "2        0.0       0.0   0.000000  ...            0.0        0.0      0.0   \n",
       "3        0.0       1.0   1.000000  ...            0.0        1.0      1.0   \n",
       "4        0.0       0.0   1.000000  ...            0.0        0.0      0.0   \n",
       "\n",
       "   ZOLINZA  GEMCITABINE  PACLITAXEL  MK-8669  VINORELBINE  DOXORUBICIN  \\\n",
       "0      0.0          0.0         0.0      0.0          0.0          0.0   \n",
       "1      0.0          0.0         0.0      0.0          0.0          0.0   \n",
       "2      0.0          0.0         0.0      0.0          0.0          0.0   \n",
       "3      2.0          0.0         1.0      1.0          0.0          0.0   \n",
       "4      0.0          1.0         0.0      0.0          0.0          0.0   \n",
       "\n",
       "   BORTEZOMIB  \n",
       "0         0.0  \n",
       "1         0.0  \n",
       "2         0.0  \n",
       "3         2.0  \n",
       "4         0.0  \n",
       "\n",
       "[5 rows x 32 columns]"
      ]
     },
     "execution_count": 15,
     "metadata": {},
     "output_type": "execute_result"
    }
   ],
   "source": [
    "pd_drug2my_features = pd_drug2features[list(dict_drug2number.keys())]\n",
    "print(pd_drug2my_features.shape)\n",
    "pd_drug2my_features.head()"
   ]
  },
  {
   "cell_type": "code",
   "execution_count": 16,
   "id": "10d679f8",
   "metadata": {},
   "outputs": [
    {
     "name": "stderr",
     "output_type": "stream",
     "text": [
      "/home/laezza/miniconda3/envs/py38torchCL1/lib/python3.8/site-packages/tqdm/auto.py:22: TqdmWarning: IProgress not found. Please update jupyter and ipywidgets. See https://ipywidgets.readthedocs.io/en/stable/user_install.html\n",
      "  from .autonotebook import tqdm as notebook_tqdm\n"
     ]
    }
   ],
   "source": [
    "import os\n",
    "from os.path import dirname\n",
    "import torch\n",
    "\n",
    "path2save = dirname(os.getcwd())+os.sep+'synergy-prediction-gcn-2'+os.sep+'applyModelONeil'+os.sep+'data'+os.sep\n",
    "\n",
    "matrix_drug2my_features = torch.tensor(pd_drug2my_features.values)\n",
    "#torch.save(matrix_drug2my_features,path2save+'drug_feature_matrix_deepSynergy')"
   ]
  },
  {
   "cell_type": "code",
   "execution_count": 17,
   "id": "f872926e",
   "metadata": {},
   "outputs": [
    {
     "name": "stdout",
     "output_type": "stream",
     "text": [
      "1309\n",
      "tensor(0., dtype=torch.float64)\n",
      "tensor(29., dtype=torch.float64)\n"
     ]
    },
    {
     "data": {
      "text/plain": [
       "tensor([0., 0., 0.,  ..., 0., 0., 0.], dtype=torch.float64)"
      ]
     },
     "execution_count": 17,
     "metadata": {},
     "output_type": "execute_result"
    }
   ],
   "source": [
    "print(len(matrix_drug2my_features[:1309,0]))\n",
    "print(matrix_drug2my_features[:1309,0].min())\n",
    "print(matrix_drug2my_features[:1309,0].max())\n",
    "matrix_drug2my_features[:1309,0]"
   ]
  },
  {
   "cell_type": "code",
   "execution_count": 32,
   "id": "5b0c5a8f",
   "metadata": {},
   "outputs": [
    {
     "data": {
      "text/plain": [
       "0.0"
      ]
     },
     "execution_count": 32,
     "metadata": {},
     "output_type": "execute_result"
    }
   ],
   "source": [
    "float(torch.tensor(0., dtype=torch.float64))"
   ]
  },
  {
   "cell_type": "code",
   "execution_count": 39,
   "id": "28c45689",
   "metadata": {},
   "outputs": [
    {
     "name": "stdout",
     "output_type": "stream",
     "text": [
      "[0.0, 0.02631578947368421, 0.05263157894736842, 0.07894736842105263, 0.13157894736842105, 0.42105263157894735, 0.7631578947368421, 1.0, 2.0, 3.0, 4.0, 9.0, 29.0]\n"
     ]
    }
   ],
   "source": [
    "print( sorted(set([float(x) for x in matrix_drug2my_features[:1309,0]])))"
   ]
  },
  {
   "cell_type": "code",
   "execution_count": 40,
   "id": "a5a3d7c1",
   "metadata": {},
   "outputs": [
    {
     "name": "stdout",
     "output_type": "stream",
     "text": [
      "tensor(53., dtype=torch.float64)\n"
     ]
    }
   ],
   "source": [
    "print(matrix_drug2my_features[:1309,:].max())"
   ]
  },
  {
   "cell_type": "code",
   "execution_count": 29,
   "id": "4ecf55f8",
   "metadata": {
    "scrolled": true
   },
   "outputs": [
    {
     "name": "stdout",
     "output_type": "stream",
     "text": [
      "802\n",
      "tensor(0., dtype=torch.float64)\n",
      "tensor(1., dtype=torch.float64)\n"
     ]
    },
    {
     "data": {
      "text/plain": [
       "tensor([0.0000, 0.0000, 0.0000, 0.0000, 0.0000, 0.0000, 0.0000, 0.0000, 0.0000,\n",
       "        0.0000, 0.0000, 0.0000, 0.0000, 0.0000, 0.0000, 0.0000, 0.0000, 0.0000,\n",
       "        0.0000, 0.0000, 0.0000, 0.0000, 0.0000, 0.0000, 0.0000, 0.0000, 0.0000,\n",
       "        0.0000, 0.0000, 0.0000, 0.0000, 0.0000, 0.0000, 0.0000, 0.0000, 0.0000,\n",
       "        0.0000, 0.0000, 0.0000, 0.0000, 0.0000, 0.0000, 0.0000, 0.0000, 0.0000,\n",
       "        0.0000, 0.0000, 0.0000, 0.0000, 0.0000, 0.0000, 0.0000, 0.0000, 0.0000,\n",
       "        0.0000, 0.0000, 0.0000, 0.0000, 0.0000, 0.0000, 0.0000, 0.0000, 0.0000,\n",
       "        0.0000, 0.0000, 0.0000, 0.0789, 0.0000, 0.0000, 0.0000, 0.0000, 0.0000,\n",
       "        0.0000, 0.0000, 0.0000, 0.0000, 0.0000, 0.0000, 0.0000, 0.0000, 0.0000,\n",
       "        0.0000, 0.0000, 0.0000, 0.0000, 0.0000, 0.0000, 0.0000, 0.0000, 0.0000,\n",
       "        0.0000, 0.0000, 0.0000, 0.0000, 0.0000, 0.0000, 0.0000, 0.0000, 0.0000,\n",
       "        0.0000, 0.0000, 0.0000, 0.0000, 0.0000, 0.0000, 0.0000, 0.0000, 0.0000,\n",
       "        0.0000, 0.0000, 0.0000, 0.0000, 0.0000, 0.0000, 0.0000, 0.0000, 0.0000,\n",
       "        0.0000, 0.0000, 0.0000, 0.0000, 0.0000, 0.0000, 0.0000, 0.0000, 0.0000,\n",
       "        0.0000, 0.0000, 0.0000, 0.0000, 0.0000, 0.0000, 0.0000, 0.0000, 0.0000,\n",
       "        0.0000, 0.0000, 0.0000, 0.0000, 0.0000, 0.0000, 0.0000, 0.0000, 0.0000,\n",
       "        0.0000, 0.0000, 0.0000, 0.0000, 0.0000, 0.0000, 0.0000, 0.0000, 0.0000,\n",
       "        0.0000, 0.0000, 0.0000, 0.0000, 0.0000, 0.0000, 0.0000, 0.0000, 0.0000,\n",
       "        0.0000, 0.0000, 0.0000, 0.0000, 0.0000, 0.0000, 0.0000, 0.0000, 0.0000,\n",
       "        0.0000, 0.0000, 0.0000, 0.0000, 0.0000, 0.0000, 0.0000, 0.0000, 0.0000,\n",
       "        0.0000, 0.0000, 0.0000, 0.0000, 0.0000, 0.0000, 0.0000, 0.0000, 0.0000,\n",
       "        0.0000, 0.0000, 0.0000, 0.0000, 0.0000, 0.0000, 0.0000, 0.0000, 0.0000,\n",
       "        0.0000, 0.0000, 0.0000, 0.0000, 0.0000, 0.0000, 0.0000, 0.0000, 0.0000,\n",
       "        0.0000, 0.0000, 0.0000, 0.0000, 0.0000, 0.0000, 0.0000, 0.0000, 0.0000,\n",
       "        0.0000, 0.0000, 0.0789, 0.0000, 0.0000, 0.0000, 0.0000, 0.0000, 0.0000,\n",
       "        0.0000, 0.0000, 0.0000, 0.0000, 0.0000, 0.0000, 0.0000, 0.0000, 0.0000,\n",
       "        0.0000, 0.0000, 0.0000, 0.0000, 0.0000, 0.0000, 0.0000, 0.0000, 0.0000,\n",
       "        0.0000, 1.0000, 0.0000, 0.0000, 0.0000, 0.0000, 0.0000, 0.0000, 0.0000,\n",
       "        0.0000, 0.0000, 0.0000, 0.0263, 0.0000, 0.0000, 0.0000, 0.0000, 0.0000,\n",
       "        0.0000, 0.0000, 0.0000, 0.0000, 0.0000, 0.0000, 0.0000, 0.0000, 0.0000,\n",
       "        0.0000, 0.0000, 0.0000, 0.0000, 0.0000, 0.0000, 0.0000, 0.0000, 0.0526,\n",
       "        0.0789, 0.0000, 0.0000, 0.0000, 0.0000, 0.0000, 0.0000, 0.0000, 0.0000,\n",
       "        0.0000, 0.0000, 0.0000, 0.0000, 0.0000, 0.0000, 0.0000, 0.0000, 0.0000,\n",
       "        0.0000, 0.0000, 0.0000, 0.0000, 0.0000, 0.0000, 0.0000, 0.0000, 0.0000,\n",
       "        0.0000, 1.0000, 0.0000, 0.0000, 0.0000, 0.0000, 0.0000, 0.0000, 0.0000,\n",
       "        0.0000, 0.0000, 1.0000, 0.0000, 0.0000, 0.0000, 0.0000, 0.0000, 0.0000,\n",
       "        0.0000, 0.0000, 0.0000, 0.0000, 1.0000, 0.0000, 0.0000, 0.0000, 0.0000,\n",
       "        0.0000, 0.0000, 0.0000, 0.0000, 0.0000, 0.0000, 0.0000, 0.0000, 0.0000,\n",
       "        0.0000, 0.0000, 0.0000, 0.0000, 0.0000, 0.0000, 0.0000, 0.0000, 0.0000,\n",
       "        0.0000, 0.0000, 0.0000, 0.0000, 0.0000, 0.0000, 0.0000, 0.0000, 0.0000,\n",
       "        0.0000, 0.0000, 0.0000, 0.0000, 0.0000, 0.0000, 0.0000, 0.0000, 0.0000,\n",
       "        0.0000, 0.0000, 0.0000, 0.0000, 0.0000, 0.0000, 0.0000, 0.0000, 1.0000,\n",
       "        0.0000, 0.0000, 0.0000, 0.0000, 1.0000, 0.0000, 0.0000, 0.0000, 0.0000,\n",
       "        0.0000, 0.0000, 0.0000, 0.0000, 0.0000, 0.0000, 0.0000, 0.0000, 0.0000,\n",
       "        0.0000, 0.0000, 0.0000, 0.0000, 0.0000, 0.0000, 0.0000, 0.0000, 1.0000,\n",
       "        0.0000, 0.0000, 0.0000, 0.0000, 0.0000, 0.0000, 0.0000, 1.0000, 0.0000,\n",
       "        0.0000, 0.0000, 0.0000, 0.0000, 0.0000, 0.0000, 0.0000, 0.0000, 0.0000,\n",
       "        0.0000, 0.0000, 0.0000, 0.0000, 0.0000, 0.0000, 0.0000, 0.0000, 0.0000,\n",
       "        0.0000, 0.0000, 0.0000, 0.0000, 0.0000, 0.0000, 0.0000, 0.0000, 0.0000,\n",
       "        0.0000, 0.0000, 0.0000, 0.0000, 0.0000, 0.0000, 0.0000, 0.0000, 0.0000,\n",
       "        0.0000, 0.0000, 0.0000, 0.0000, 0.0000, 0.0000, 0.0000, 0.0000, 0.0000,\n",
       "        0.0000, 0.0000, 0.0000, 0.0000, 0.0000, 0.0000, 0.0000, 0.0000, 0.0000,\n",
       "        0.0000, 0.0000, 0.0000, 0.0000, 0.0000, 0.0000, 0.0000, 0.0000, 0.0000,\n",
       "        0.0000, 0.0000, 0.0000, 0.0000, 0.0000, 0.0000, 0.0000, 0.0000, 0.0000,\n",
       "        0.0000, 0.0000, 0.0000, 0.0000, 0.0000, 0.0000, 0.0000, 0.0000, 0.0000,\n",
       "        0.0000, 0.0000, 0.0000, 0.0000, 0.0000, 0.0000, 0.0000, 0.0000, 0.0000,\n",
       "        0.0000, 0.0000, 0.0000, 0.0000, 0.0000, 0.0000, 0.0000, 0.0000, 0.0000,\n",
       "        0.0000, 0.0000, 0.0000, 0.0000, 0.0000, 0.0000, 0.0000, 0.0000, 0.0000,\n",
       "        0.0000, 0.0000, 0.0000, 0.0000, 0.0000, 0.0789, 0.0000, 0.0000, 0.0000,\n",
       "        1.0000, 0.0000, 0.0000, 0.0000, 0.0000, 0.0000, 0.0000, 0.0000, 0.0000,\n",
       "        0.0000, 0.0000, 0.0000, 0.0000, 0.0000, 0.0000, 0.0000, 1.0000, 0.0000,\n",
       "        0.0000, 0.0000, 0.0000, 0.0000, 0.0000, 0.0000, 0.0000, 0.0000, 0.0000,\n",
       "        0.0000, 0.0000, 0.0000, 0.0000, 1.0000, 0.0000, 0.0000, 1.0000, 0.0000,\n",
       "        0.0000, 0.0000, 0.0000, 0.0000, 0.0000, 0.0000, 0.0000, 0.0000, 0.0000,\n",
       "        0.0000, 0.0000, 0.0000, 0.0000, 0.0000, 0.0000, 0.0000, 0.0000, 0.0000,\n",
       "        0.0000, 0.0000, 0.0000, 0.0000, 0.0000, 0.0000, 0.0000, 0.0000, 0.0000,\n",
       "        0.0000, 0.0000, 0.0000, 0.0000, 0.0000, 0.0000, 0.0000, 0.0000, 0.0000,\n",
       "        0.0000, 0.0000, 0.0000, 0.0000, 0.0000, 0.0000, 0.0000, 0.0000, 0.0000,\n",
       "        0.0000, 0.0000, 0.0000, 0.0000, 1.0000, 0.0000, 0.0000, 0.0000, 0.0000,\n",
       "        0.0000, 0.0000, 0.0000, 0.0000, 0.0000, 0.0000, 0.0000, 0.0000, 0.0000,\n",
       "        0.0000, 0.0000, 0.0000, 0.0000, 0.0000, 0.0000, 0.0000, 0.0000, 0.0000,\n",
       "        0.0000, 0.0000, 0.0000, 0.0000, 0.0000, 0.0000, 0.0000, 0.0000, 0.0000,\n",
       "        0.0000, 0.0000, 0.0000, 0.0000, 0.0000, 0.0000, 0.0000, 0.0000, 0.0000,\n",
       "        0.0000, 0.0000, 0.0000, 0.0000, 0.0000, 0.0000, 0.0000, 0.0000, 0.0000,\n",
       "        0.0000, 0.0000, 0.0000, 0.0000, 0.0000, 0.0000, 0.0000, 0.0789, 0.0000,\n",
       "        0.0000, 0.0000, 0.0000, 0.0000, 0.0000, 0.0000, 0.0000, 0.0000, 0.0000,\n",
       "        0.0000, 0.0000, 0.0000, 0.0000, 0.0000, 0.0000, 0.0000, 0.0000, 0.0000,\n",
       "        0.0000, 0.0000, 0.0000, 0.0000, 0.0000, 0.0000, 0.0000, 0.0000, 0.0000,\n",
       "        0.0000, 0.0000, 0.0000, 0.0000, 0.0000, 0.0000, 0.0000, 0.0000, 0.0000,\n",
       "        0.0000, 1.0000, 0.0000, 0.0000, 0.0000, 0.0000, 0.0000, 0.0000, 0.0000,\n",
       "        0.0000, 0.0000, 0.0000, 0.0000, 0.0000, 0.0000, 0.0000, 0.0000, 0.0000,\n",
       "        0.0000, 0.0000, 0.0000, 0.0000, 0.0000, 0.0000, 0.0000, 0.0000, 0.0000,\n",
       "        0.0000, 0.0789, 0.0000, 0.0000, 0.0000, 0.0000, 0.0000, 0.0000, 0.0000,\n",
       "        0.0000, 0.0000, 0.0000, 0.0000, 0.0000, 0.0000, 0.0000, 0.0000, 0.0000,\n",
       "        0.0000, 0.0000, 0.0000, 0.0000, 0.0000, 0.0000, 0.0000, 0.0000, 0.0000,\n",
       "        0.0000, 0.0000, 0.0000, 0.0000, 0.0000, 0.0000, 0.0000, 0.0000, 0.0000,\n",
       "        0.0000, 0.0789, 0.0000, 0.0000, 0.0000, 0.0000, 0.0000, 0.0000, 0.0000,\n",
       "        0.0000, 0.0000, 0.0000, 0.0000, 0.0000, 0.0000, 0.0000, 0.0000, 0.0000,\n",
       "        0.0000, 0.0000, 0.0000, 0.0000, 0.0000, 0.0000, 0.0000, 0.0000, 0.0000,\n",
       "        0.0000], dtype=torch.float64)"
      ]
     },
     "execution_count": 29,
     "metadata": {},
     "output_type": "execute_result"
    }
   ],
   "source": [
    "print(len(matrix_drug2my_features[1309:802+1309,0]))\n",
    "print(matrix_drug2my_features[1309:802+1309,0].min())\n",
    "print(matrix_drug2my_features[1309:802+1309,0].max())\n",
    "matrix_drug2my_features[1309:802+1309,0]"
   ]
  },
  {
   "cell_type": "code",
   "execution_count": 28,
   "id": "07a84733",
   "metadata": {},
   "outputs": [
    {
     "name": "stdout",
     "output_type": "stream",
     "text": [
      "2276\n",
      "tensor(-2214.8870, dtype=torch.float64)\n",
      "tensor(22421.9590, dtype=torch.float64)\n"
     ]
    },
    {
     "data": {
      "text/plain": [
       "tensor([  0.0000,   0.0000,   0.0000,  ..., 102.8270,   5.4850,   0.0000],\n",
       "       dtype=torch.float64)"
      ]
     },
     "execution_count": 28,
     "metadata": {},
     "output_type": "execute_result"
    }
   ],
   "source": [
    "print(len(matrix_drug2my_features[802+1309:,0]))\n",
    "print(matrix_drug2my_features[802+1309:,0].min())\n",
    "print(matrix_drug2my_features[802+1309:,0].max())\n",
    "matrix_drug2my_features[802+1309:,0]"
   ]
  },
  {
   "cell_type": "code",
   "execution_count": 28,
   "id": "09822431",
   "metadata": {
    "scrolled": true
   },
   "outputs": [
    {
     "data": {
      "text/plain": [
       "array([[  0.        ,   0.        ,   0.        , ...,   0.        ,\n",
       "          0.        ,   0.        ],\n",
       "       [  0.        ,   0.        ,   0.        , ...,   0.        ,\n",
       "          0.        ,   0.        ],\n",
       "       [  0.        ,   0.        ,   0.        , ...,   0.        ,\n",
       "          0.        ,   0.        ],\n",
       "       ...,\n",
       "       [102.827     ,  36.277     , 186.8852973 , ..., 178.766     ,\n",
       "        107.801     ,  64.523     ],\n",
       "       [  5.485     ,   3.136     ,   3.95327027, ...,   4.671     ,\n",
       "          4.393     ,   3.886     ],\n",
       "       [  0.        ,   0.        ,   0.        , ...,   0.        ,\n",
       "          0.        ,   0.        ]])"
      ]
     },
     "execution_count": 28,
     "metadata": {},
     "output_type": "execute_result"
    }
   ],
   "source": [
    "pd_drug2my_features.values"
   ]
  },
  {
   "cell_type": "code",
   "execution_count": 40,
   "id": "a08ddbfd",
   "metadata": {},
   "outputs": [],
   "source": [
    "drug_feature_matrix_deepSynergy = torch.load(path2save+'drug_feature_matrix_deepSynergy')"
   ]
  },
  {
   "cell_type": "code",
   "execution_count": 41,
   "id": "86c98074",
   "metadata": {},
   "outputs": [
    {
     "data": {
      "text/plain": [
       "tensor([[  0.0000,   0.0000,   0.0000,  ...,   0.0000,   0.0000,   0.0000],\n",
       "        [  0.0000,   0.0000,   0.0000,  ...,   0.0000,   0.0000,   0.0000],\n",
       "        [  0.0000,   0.0000,   0.0000,  ...,   0.0000,   0.0000,   0.0000],\n",
       "        ...,\n",
       "        [102.8270,  36.2770, 186.8853,  ..., 178.7660, 107.8010,  64.5230],\n",
       "        [  5.4850,   3.1360,   3.9533,  ...,   4.6710,   4.3930,   3.8860],\n",
       "        [  0.0000,   0.0000,   0.0000,  ...,   0.0000,   0.0000,   0.0000]],\n",
       "       dtype=torch.float64)"
      ]
     },
     "execution_count": 41,
     "metadata": {},
     "output_type": "execute_result"
    }
   ],
   "source": [
    "drug_feature_matrix_deepSynergy"
   ]
  },
  {
   "cell_type": "code",
   "execution_count": 42,
   "id": "77de1513",
   "metadata": {},
   "outputs": [
    {
     "data": {
      "text/plain": [
       "torch.Tensor"
      ]
     },
     "execution_count": 42,
     "metadata": {},
     "output_type": "execute_result"
    }
   ],
   "source": [
    "type(drug_feature_matrix_deepSynergy[0][0])"
   ]
  },
  {
   "cell_type": "code",
   "execution_count": null,
   "id": "3a3c4518",
   "metadata": {},
   "outputs": [],
   "source": []
  },
  {
   "cell_type": "code",
   "execution_count": null,
   "id": "5aa0af42",
   "metadata": {},
   "outputs": [],
   "source": []
  }
 ],
 "metadata": {
  "kernelspec": {
   "display_name": "Python 3",
   "language": "python",
   "name": "python3"
  },
  "language_info": {
   "codemirror_mode": {
    "name": "ipython",
    "version": 3
   },
   "file_extension": ".py",
   "mimetype": "text/x-python",
   "name": "python",
   "nbconvert_exporter": "python",
   "pygments_lexer": "ipython3",
   "version": "3.8.15"
  }
 },
 "nbformat": 4,
 "nbformat_minor": 5
}
